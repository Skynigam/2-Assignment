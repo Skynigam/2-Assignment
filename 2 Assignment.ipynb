{
 "cells": [
  {
   "cell_type": "markdown",
   "id": "392838ee-74c8-4608-9fb7-56f7f21ee4a6",
   "metadata": {},
   "source": [
    "# Question 1"
   ]
  },
  {
   "cell_type": "markdown",
   "id": "ce1e911c-911a-40fc-ac97-e2b6b24fb2c8",
   "metadata": {},
   "source": [
    "The \"#\" sign is used to remark code in Python. This symbol indicates that everything on the next line is a remark and should not be executed by the interpreter.\n",
    "In Python, there are two kinds of comments:\n",
    "\n",
    "1. Single-line comments: These are comments that begin with the \"#\" symbol and are typed on a single line.\n",
    "Example: # This is a one-line remark.\n",
    "\n",
    "2. Multi-line comments: These are comments that span many lines and are surrounded by triple quotation marks (\"\"\" \"\"\").\n",
    "\n",
    "Example:\n",
    "\n",
    "\"\"\" This is a lengthy remark.\n",
    "\n",
    "It is contained in triple quotations and can span numerous lines. \"\"\""
   ]
  },
  {
   "cell_type": "markdown",
   "id": "d1dc7c35-e0cd-43fc-bb92-823cc0329ac5",
   "metadata": {},
   "source": [
    "# Question 2"
   ]
  },
  {
   "cell_type": "markdown",
   "id": "1ae8d15a-befd-4a93-965e-2df2ceb7b65b",
   "metadata": {},
   "source": [
    "Variables are used to hold values or data in Python. They are similar to value-holding containers. Variables can be given various values and used to execute operations on those values.\n",
    "\n",
    "To declare a variable in Python, name it and assign it a value with the assignment operator (=). For example:\n",
    "\n",
    "age = 25 \n",
    "name = \"John\"\n",
    "\n",
    "You may also use the following syntax to assign multiple values to several variables in a single line:\n",
    "\n",
    "a, b, c = 10, 20, 30\n",
    "\n",
    "In this example, the numbers 10, 20, and 30 have been given to variables a, b, and c, respectively."
   ]
  },
  {
   "cell_type": "markdown",
   "id": "0db02c9e-9484-44cb-9b6d-c00e68dfcb97",
   "metadata": {},
   "source": [
    "# Question 3"
   ]
  },
  {
   "cell_type": "markdown",
   "id": "b0e5c877-b132-49ea-b2f2-f11cfe29e643",
   "metadata": {},
   "source": [
    "In Python, you can convert one data type to another using type conversion functions. The following are the commonly used type conversion functions:\n",
    "\n",
    "For example:\n",
    "\n",
    "1. int(): This function is used to convert a value to an integer data type.\n",
    "\n",
    "Example:\n",
    "\n",
    "a = \"10\"\n",
    "\n",
    "b = int(a)\n",
    "\n",
    "print(b) # Output: 10\n",
    "\n",
    "Similarly you can use : float(), str() and bool() to convert a data type to floating number, string and bullion respectively."
   ]
  },
  {
   "cell_type": "markdown",
   "id": "d7ed9fe7-f58c-44fb-98e7-d055c57bb220",
   "metadata": {},
   "source": [
    "# Question 4"
   ]
  },
  {
   "cell_type": "markdown",
   "id": "e9d791ad-27c9-44e1-979a-2115238bbe47",
   "metadata": {},
   "source": [
    "To write and execute a Python script from the command line, follow these steps:\n",
    "\n",
    "1. Open a text editor and write your Python code in it.\n",
    "2. Save the file with a .py extension (e.g., my_script.py).\n",
    "3. Open the command prompt or terminal on your computer.\n",
    "4. Navigate to the directory where the script is saved using the cd command (e.g., cd C:\\Users\\my_username\\Documents).\n",
    "5. Type \"python\" followed by the name of the script (e.g., python my_script.py) and press Enter.\n",
    "6. The script will execute, and any output or errors will be displayed in the command prompt or terminal."
   ]
  },
  {
   "cell_type": "markdown",
   "id": "d4e4272f-1de1-42fb-89ad-a24bd4667b8c",
   "metadata": {},
   "source": [
    "# Question 5"
   ]
  },
  {
   "cell_type": "code",
   "execution_count": 2,
   "id": "c53ba966-0a54-4b20-b33a-6036fe7a3486",
   "metadata": {},
   "outputs": [
    {
     "name": "stdout",
     "output_type": "stream",
     "text": [
      "[2, 3]\n"
     ]
    }
   ],
   "source": [
    "my_list = [1, 2, 3, 4, 5]\n",
    "sub_list = my_list[1:3:1]\n",
    "print(sub_list)"
   ]
  },
  {
   "cell_type": "markdown",
   "id": "d40404b6-9133-4d7c-9a89-760be0d9a327",
   "metadata": {},
   "source": [
    "# Question 6"
   ]
  },
  {
   "cell_type": "markdown",
   "id": "55452bf8-fa2f-43ad-9ed4-3b3b734da3a9",
   "metadata": {},
   "source": [
    "A complex number is a number that consists of a real part and an imaginary part. It is represented in the form a + bi, where a is the real part and b is the imaginary part, and i is the imaginary unit (i.e., the square root of -1).\n",
    "\n",
    "In Python, complex numbers are represented using the \"j\" suffix to indicate the imaginary part. For example, 3 + 4j represents the complex number with a real part of 3 and an imaginary part of 4. Complex numbers in Python can be used for various mathematical operations, including addition, subtraction, multiplication, and division."
   ]
  },
  {
   "cell_type": "markdown",
   "id": "7d093098-6bcc-40f0-bd1d-3a999d989561",
   "metadata": {},
   "source": [
    "# Question 7"
   ]
  },
  {
   "cell_type": "code",
   "execution_count": 3,
   "id": "317cb41d-a550-44ca-a091-86a30b406bc5",
   "metadata": {},
   "outputs": [
    {
     "name": "stdout",
     "output_type": "stream",
     "text": [
      "25\n"
     ]
    }
   ],
   "source": [
    "# In order to declare a variable named age and assign the value 25 to it, do the following:\n",
    "\n",
    "age = 25\n",
    "print(age)"
   ]
  },
  {
   "cell_type": "markdown",
   "id": "139a46d2-c81b-470d-b118-028bf9a94d05",
   "metadata": {},
   "source": [
    "# Question 8"
   ]
  },
  {
   "cell_type": "code",
   "execution_count": 4,
   "id": "02cee913-8c00-48dc-9c25-ce423659daf2",
   "metadata": {},
   "outputs": [
    {
     "data": {
      "text/plain": [
       "float"
      ]
     },
     "execution_count": 4,
     "metadata": {},
     "output_type": "execute_result"
    }
   ],
   "source": [
    "price = 9.99\n",
    "type(price)"
   ]
  },
  {
   "cell_type": "markdown",
   "id": "d6ab2af6-0f7e-4f52-9213-1159fb69d497",
   "metadata": {},
   "source": [
    "Hence, type of price is a floating number."
   ]
  },
  {
   "cell_type": "markdown",
   "id": "6224038c-4839-4964-a353-2bbfb8a935c3",
   "metadata": {},
   "source": [
    "# Question 9"
   ]
  },
  {
   "cell_type": "code",
   "execution_count": 5,
   "id": "1ac2af1b-a606-4968-8db3-87761345ec32",
   "metadata": {},
   "outputs": [
    {
     "name": "stdout",
     "output_type": "stream",
     "text": [
      "Akash Nigam\n"
     ]
    }
   ],
   "source": [
    "# In order to print the value of the variable \"name\", do the following steps:\n",
    "name = \"Akash Nigam\"\n",
    "print(name)"
   ]
  },
  {
   "cell_type": "markdown",
   "id": "39ab5487-95e9-443a-950c-38b0954edc19",
   "metadata": {},
   "source": [
    "# Question 10"
   ]
  },
  {
   "cell_type": "code",
   "execution_count": 8,
   "id": "0a1d923b-67ad-4ca2-9a97-d20377514225",
   "metadata": {},
   "outputs": [
    {
     "name": "stdout",
     "output_type": "stream",
     "text": [
      "World!\n"
     ]
    }
   ],
   "source": [
    "string = \"Hello, World!\"\n",
    "substring = string[7::1]\n",
    "print(substring)"
   ]
  },
  {
   "cell_type": "markdown",
   "id": "652d820f-3d0a-4b89-898b-b89c19b9be0b",
   "metadata": {},
   "source": [
    "# Question 11"
   ]
  },
  {
   "cell_type": "code",
   "execution_count": 12,
   "id": "9ae9cc6a-a351-4b0f-bd62-426c382e3d4b",
   "metadata": {},
   "outputs": [
    {
     "data": {
      "text/plain": [
       "True"
      ]
     },
     "execution_count": 12,
     "metadata": {},
     "output_type": "execute_result"
    }
   ],
   "source": [
    "is_student = True\n",
    "is_student"
   ]
  },
  {
   "cell_type": "code",
   "execution_count": null,
   "id": "8cf95f51-60ba-40b0-93ab-f2f01b4b303d",
   "metadata": {},
   "outputs": [],
   "source": []
  }
 ],
 "metadata": {
  "kernelspec": {
   "display_name": "Python 3 (ipykernel)",
   "language": "python",
   "name": "python3"
  },
  "language_info": {
   "codemirror_mode": {
    "name": "ipython",
    "version": 3
   },
   "file_extension": ".py",
   "mimetype": "text/x-python",
   "name": "python",
   "nbconvert_exporter": "python",
   "pygments_lexer": "ipython3",
   "version": "3.10.8"
  }
 },
 "nbformat": 4,
 "nbformat_minor": 5
}
